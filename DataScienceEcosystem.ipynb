{
 "cells": [
  {
   "cell_type": "markdown",
   "id": "426655a2-61fc-4424-91f8-85fa07d59130",
   "metadata": {},
   "source": [
    "# Data Science Tools and Ecosystem"
   ]
  },
  {
   "cell_type": "markdown",
   "id": "228bac93-dc85-4e91-93fe-571d7d837b2c",
   "metadata": {},
   "source": [
    "### In this notebook, Data Science Tools and Ecosystem are summarized"
   ]
  },
  {
   "cell_type": "markdown",
   "id": "71d3c0c9-ab79-47b2-9a20-cc1dc76466e8",
   "metadata": {},
   "source": [
    "**Objectives:**\n",
    "\n",
    "- List popular languages for Data Science\n",
    "- List commonly used libraries in Data Science\n",
    "- Create tables in Jupyter Notebook using Markdown\n",
    "- Perform basic arithmetic operations in Python"
   ]
  },
  {
   "cell_type": "markdown",
   "id": "7a266af4-dca8-45ea-8f2d-fa719e34fc06",
   "metadata": {},
   "source": [
    "#### Some of the popular languaes that Data Scientistsuse are.\n",
    "\n",
    "1. Python\n",
    "2. R\n",
    "3. SQL\n",
    "4. Julia"
   ]
  },
  {
   "cell_type": "markdown",
   "id": "ebc5109a-9c51-4d83-a104-e606ebf09a34",
   "metadata": {},
   "source": [
    "#### Some of the commonly used libraries used by Data Scientists include\n",
    "1.  Pandas\n",
    "2.  Numpy\n",
    "3.  matplotlib\n",
    "4.  ggplot\n",
    "5.  TensorFlow\n",
    "6.  Scikit-learn"
   ]
  },
  {
   "cell_type": "markdown",
   "id": "c60c0186-4823-4cb4-b418-70dfe4a6f4ac",
   "metadata": {},
   "source": [
    "| Data Science Tools |\n",
    "| --------------------|\n",
    "| Jupyter Notebook |\n",
    "| Spyder |\n",
    "| Apache Zeppelin |"
   ]
  },
  {
   "cell_type": "markdown",
   "id": "2fe30c11-03b6-4586-961c-8bc4de9db31c",
   "metadata": {},
   "source": [
    "### Below are a few examples of evaluating arithmetic expressions in Python"
   ]
  },
  {
   "cell_type": "code",
   "execution_count": 8,
   "id": "9b4cfa75-c243-4d3b-a610-d62df03f55c6",
   "metadata": {},
   "outputs": [
    {
     "data": {
      "text/plain": [
       "17"
      ]
     },
     "execution_count": 8,
     "metadata": {},
     "output_type": "execute_result"
    }
   ],
   "source": [
    "# This a simple arithmetic expression to multiply then add integers\n",
    "(3*4)+5"
   ]
  },
  {
   "cell_type": "code",
   "execution_count": 9,
   "id": "84fab747-9186-4469-b477-5a6598fb21e4",
   "metadata": {},
   "outputs": [
    {
     "data": {
      "text/plain": [
       "3.3333333333333335"
      ]
     },
     "execution_count": 9,
     "metadata": {},
     "output_type": "execute_result"
    }
   ],
   "source": [
    "# This will convert 200 minutes to hours by dividing by 60\n",
    "200 / 60"
   ]
  },
  {
   "cell_type": "markdown",
   "id": "54f8b9a9-7f9e-4e8a-b230-5e3b2aee8380",
   "metadata": {},
   "source": [
    "## Author\n",
    "\n",
    "Magaly Yefrith Medina Vilca"
   ]
  }
 ],
 "metadata": {
  "kernelspec": {
   "display_name": "Python 3 (ipykernel)",
   "language": "python",
   "name": "python3"
  },
  "language_info": {
   "codemirror_mode": {
    "name": "ipython",
    "version": 3
   },
   "file_extension": ".py",
   "mimetype": "text/x-python",
   "name": "python",
   "nbconvert_exporter": "python",
   "pygments_lexer": "ipython3",
   "version": "3.12.8"
  }
 },
 "nbformat": 4,
 "nbformat_minor": 5
}
